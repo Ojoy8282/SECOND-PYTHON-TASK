{
 "cells": [
  {
   "cell_type": "markdown",
   "id": "3fdf402a-ee2f-4677-ba5e-a260b5bef361",
   "metadata": {},
   "source": [
    "# TASK 1"
   ]
  },
  {
   "cell_type": "code",
   "execution_count": 1,
   "id": "908d2ad2-3c4a-4442-bd48-015b673a23bd",
   "metadata": {},
   "outputs": [
    {
     "name": "stdin",
     "output_type": "stream",
     "text": [
      "Player 1?  rock\n",
      "Player 2?  paper\n"
     ]
    },
    {
     "name": "stdout",
     "output_type": "stream",
     "text": [
      "Player 2 wins.\n"
     ]
    }
   ],
   "source": [
    "# A unique implementation of Rock, Paper, Scissors game\n",
    "\n",
    "# Gathering choices from both participants\n",
    "first_player_choice = input(\"Player 1? \")\n",
    "second_player_choice = input(\"Player 2? \")\n",
    "\n",
    "# Converting to lowercase for consistency\n",
    "first_player_choice = first_player_choice.lower()\n",
    "second_player_choice = second_player_choice.lower()\n",
    "\n",
    "# Defining acceptable moves\n",
    "acceptable_moves = [\"rock\", \"paper\", \"scissors\"]\n",
    "\n",
    "# Validating the inputs\n",
    "if first_player_choice not in acceptable_moves or second_player_choice not in acceptable_moves:\n",
    "    print(\"This input is not valid for our game!\")\n",
    "else:\n",
    "    # Case 1: When both players select identical moves\n",
    "    if first_player_choice == second_player_choice:\n",
    "        print(\"It's a tie!\")\n",
    "    # Case 2: Scenarios where first player triumphs\n",
    "    elif (first_player_choice == \"rock\" and second_player_choice == \"scissors\"):\n",
    "        print(\"Player 1 wins.\")\n",
    "    elif (first_player_choice == \"paper\" and second_player_choice == \"rock\"):\n",
    "        print(\"Player 1 wins.\")\n",
    "    elif (first_player_choice == \"scissors\" and second_player_choice == \"paper\"):\n",
    "        print(\"Player 1 wins.\")\n",
    "    # Case 3: All remaining scenarios (second player wins)\n",
    "    else:\n",
    "        print(\"Player 2 wins.\")"
   ]
  },
  {
   "cell_type": "markdown",
   "id": "6ac92dce-7ee9-4b31-87b1-129c52120238",
   "metadata": {},
   "source": [
    "#TASK 2\n"
   ]
  },
  {
   "cell_type": "markdown",
   "id": "5cc12c95-b33b-4978-897a-64a14d4d406b",
   "metadata": {},
   "source": [
    "# Task 2\n"
   ]
  },
  {
   "cell_type": "code",
   "execution_count": 5,
   "id": "649ecb1b-f101-4fd2-a548-2a64d8a9abbc",
   "metadata": {},
   "outputs": [
    {
     "name": "stdin",
     "output_type": "stream",
     "text": [
      " 6\n",
      " 26\n"
     ]
    },
    {
     "name": "stdout",
     "output_type": "stream",
     "text": [
      "686.929158456675\n"
     ]
    }
   ],
   "source": [
    "# Custom Stadium Surface Calculator\n",
    "# Computes the combined surface area of a stadium with semicircular ends\n",
    "\n",
    "import math\n",
    "\n",
    "# Acquire dimensions from user\n",
    "length_rectangular_section = float(input())  # The straight section length (p)\n",
    "width_value = float(input())                 # The width value (q) - also determines semicircle size\n",
    "\n",
    "# Determine the rectangular portion size\n",
    "middle_section_area = length_rectangular_section * width_value\n",
    "\n",
    "# Find the semicircular ends area\n",
    "# Each end is a semicircle with diameter equal to width_value\n",
    "semicircle_radius = width_value / 2\n",
    "semicircular_ends_total = math.pi * semicircle_radius**2  # Area of both semicircles combined\n",
    "\n",
    "# Calculate the entire stadium surface\n",
    "complete_stadium_surface = middle_section_area + semicircular_ends_total\n",
    "\n",
    "# Show the final measurement\n",
    "print(complete_stadium_surface)"
   ]
  },
  {
   "cell_type": "markdown",
   "id": "575c4a83-ab52-4f76-bda0-9818ca6a6a61",
   "metadata": {},
   "source": [
    "# TASK3"
   ]
  },
  {
   "cell_type": "code",
   "execution_count": 5,
   "id": "b2412dd3-f70d-4eba-a2f5-c562837c5169",
   "metadata": {},
   "outputs": [
    {
     "name": "stdout",
     "output_type": "stream",
     "text": [
      "BIC BANK VERIFICATION SYSTEM INITIALIZED\n"
     ]
    },
    {
     "name": "stdin",
     "output_type": "stream",
     "text": [
      "Enter quantity of cards for verification:  6\n",
      "Submit card #1:  4321-2345-3456-2345\n",
      "Submit card #2:  5432-6543-7654-8765\n",
      "Submit card #3:  8765-5432-9876-765\n",
      "Submit card #4:  6543-5432-2346-6543\n",
      "Submit card #5:  4987-8765-3456-5432\n",
      "Submit card #6:  7654-3478-9887-7654\n"
     ]
    },
    {
     "name": "stdout",
     "output_type": "stream",
     "text": [
      "\n",
      "ANALYSIS COMPLETE\n",
      "Card #1 (4321-2345-3456-2345): Valid\n",
      "Card #2 (5432-6543-7654-8765): Valid\n",
      "Card #3 (8765-5432-9876-765): Invalid\n",
      "Card #4 (6543-5432-2346-6543): Valid\n",
      "Card #5 (4987-8765-3456-5432): Valid\n",
      "Card #6 (7654-3478-9887-7654): Invalid\n"
     ]
    }
   ],
   "source": [
    "###### BIC Bank Payment Card Verification Utility\n",
    "# A fresh approach to card number authentication\n",
    "\n",
    "def scrutinize_payment_card(card_sequence):\n",
    "    \"\"\"\n",
    "    Evaluates a payment card sequence against BIC Bank's validation protocol.\n",
    "    Returns: 'Accepted' if valid, 'Rejected' if invalid\n",
    "    \"\"\"\n",
    "    # Strip any dividers for numerical analysis\n",
    "    pure_numerals = card_sequence.replace('-', '')\n",
    "    \n",
    "    # RULE 1: Verify first digit is appropriate (4, 5, or 6)\n",
    "    if not any(card_sequence.startswith(prefix) for prefix in ['4', '5', '6']):\n",
    "        return 'Rejected'\n",
    "    \n",
    "    # RULE 2: Confirm exact length requirement\n",
    "    if len(pure_numerals) != 16:\n",
    "        return 'Rejected'\n",
    "    \n",
    "    # RULE 3: Ensure only digits and properly positioned hyphens\n",
    "    for char in card_sequence:\n",
    "        if char != '-' and not char.isdigit():\n",
    "            return 'Rejected'\n",
    "    \n",
    "    # RULE 4: Verify formatting conforms to standards\n",
    "    if '-' in card_sequence:\n",
    "        segments = card_sequence.split('-')\n",
    "        if len(segments) != 4 or any(len(segment) != 4 for segment in segments):\n",
    "            return 'Rejected'\n",
    "    \n",
    "    # RULE 5: Check for prohibited digit repetition\n",
    "    i = 0\n",
    "    while i <= len(pure_numerals) - 4:\n",
    "        if len(set(pure_numerals[i:i+4])) == 1:  # All 4 digits are identical\n",
    "            return 'Rejected'\n",
    "        i += 1\n",
    "    \n",
    "    # All criteria satisfied\n",
    "    return 'Accepted'\n",
    "\n",
    "# Testing interface\n",
    "print(\"BIC BANK VERIFICATION SYSTEM INITIALIZED\")\n",
    "\n",
    "test_cases = []\n",
    "case_count = int(input(\"Enter quantity of cards for verification: \"))\n",
    "\n",
    "for i in range(case_count):\n",
    "    test_card = input(f\"Submit card #{i+1}: \")\n",
    "    verdict = scrutinize_payment_card(test_card)\n",
    "    # Convert to match original expected output format\n",
    "    standardized_verdict = \"Valid\" if verdict == \"Accepted\" else \"Invalid\"\n",
    "    test_cases.append(f\"Card #{i+1} ({test_card}): {standardized_verdict}\")\n",
    "\n",
    "print(\"\\nANALYSIS COMPLETE\")\n",
    "for result in test_cases:\n",
    "    print(result)"
   ]
  },
  {
   "cell_type": "markdown",
   "id": "de65ad12-ea15-482d-b12b-f308f0473e9d",
   "metadata": {},
   "source": [
    "# Task 4"
   ]
  },
  {
   "cell_type": "code",
   "execution_count": 20,
   "id": "2ed30d7f-02b7-496f-8c15-156f44a40e2b",
   "metadata": {},
   "outputs": [
    {
     "name": "stdout",
     "output_type": "stream",
     "text": [
      "Food: [('food', 'rice'), ('food', 'beans'), ('food', 'fried rice')]\n",
      "Drink: [('drink', 'soda'), ('drink', 'tea'), ('drink', 'green tea')]\n"
     ]
    }
   ],
   "source": [
    "from collections import defaultdict\n",
    "\n",
    "def group_by_first_element(tuple_list):\n",
    "    result = defaultdict(list)\n",
    "    for tup in tuple_list:\n",
    "        result[tup[0]].append(tup)\n",
    "    return dict(result)\n",
    "\n",
    "# Example usage\n",
    "tuples = [\n",
    "    (\"food\", \"rice\"),\n",
    "    (\"drink\", \"soda\"),\n",
    "    (\"food\", \"beans\"),\n",
    "    (\"drink\", \"tea\"),\n",
    "    (\"food\", \"fried rice\"),\n",
    "    (\"drink\", \"green tea\")\n",
    "]\n",
    "\n",
    "grouped = group_by_first_element(tuples)\n",
    "\n",
    "# Print the result\n",
    "for key, value in grouped.items():\n",
    "    print(f\"{key.capitalize()}: {value}\")\n"
   ]
  },
  {
   "cell_type": "markdown",
   "id": "839584d9-3622-4c2c-9215-44211185393e",
   "metadata": {},
   "source": [
    "# Task 5"
   ]
  },
  {
   "cell_type": "code",
   "execution_count": 1,
   "id": "b6974e25-7874-4f35-915d-0ae3b66e01dd",
   "metadata": {},
   "outputs": [
    {
     "name": "stdout",
     "output_type": "stream",
     "text": [
      "['shirt', 'trouser', 'tops', 'skirt']\n"
     ]
    }
   ],
   "source": [
    "def flatten(nested_list):\n",
    "    flattened = []\n",
    "    for item in nested_list:\n",
    "        if isinstance(item, list):  # If the item is a list, recursively flatten it\n",
    "            flattened.extend(flatten(item))\n",
    "        else:\n",
    "            flattened.append(item)  # If it's not a list, just append it\n",
    "    return flattened\n",
    "\n",
    "# Example usage\n",
    "nested_list = [[\"shirt\", \"trouser\"], [\"tops\", \"skirt\"]]  # Nested list\n",
    "flattened_list = flatten(nested_list)\n",
    "\n",
    "# Print the result\n",
    "print(flattened_list)\n"
   ]
  },
  {
   "cell_type": "code",
   "execution_count": null,
   "id": "8a89f8f5-a2ec-4b43-b8e9-777d301fa3ae",
   "metadata": {},
   "outputs": [],
   "source": []
  }
 ],
 "metadata": {
  "kernelspec": {
   "display_name": "Python 3 (ipykernel)",
   "language": "python",
   "name": "python3"
  },
  "language_info": {
   "codemirror_mode": {
    "name": "ipython",
    "version": 3
   },
   "file_extension": ".py",
   "mimetype": "text/x-python",
   "name": "python",
   "nbconvert_exporter": "python",
   "pygments_lexer": "ipython3",
   "version": "3.12.7"
  }
 },
 "nbformat": 4,
 "nbformat_minor": 5
}
